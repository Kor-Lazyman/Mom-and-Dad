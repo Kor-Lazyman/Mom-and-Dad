{
  "cells": [
    {
      "cell_type": "markdown",
      "metadata": {
        "id": "-fC0nLxYc5aY"
      },
      "source": [
        "# Assembly_Trasition_Matrix"
      ]
    },
    {
      "cell_type": "markdown",
      "metadata": {
        "id": "Od0VefT3cs7l"
      },
      "source": [
        "##알고리즘 구현에 필요한 함수선언"
      ]
    },
    {
      "cell_type": "code",
      "execution_count": null,
      "metadata": {
        "id": "gooKGECBM23Y"
      },
      "outputs": [],
      "source": [
        "def write(given_list,num,parts): #조합을 할 part만 새로 작성\n",
        "  v=[]\n",
        "  for x in range(parts):\n",
        "    v.append(given_list[num][x])\n",
        "\n",
        "  return v\n",
        "\n",
        "def write_serial(parts):#초기 상태를 만들어 주는 함수\n",
        "  serial=chr(65)\n",
        "\n",
        "  for x in range(1,parts):\n",
        "    serial=serial+'/'+chr(65+x)\n",
        "  \n",
        "  return serial\n",
        "\n",
        "def to_zeros(result,serial): #시리얼 코드를 통하여 조합된 part들은 0으로 환 (물리적으로 하나임)\n",
        "  for x in range(len(serial)): \n",
        "    result[ord(serial[x])-65]=0\n",
        "\n",
        "def serial_checking(given_list,serial): #시리얼 코드를 통해 이미 조합된적 있는지 검사\n",
        "  for x in range(len(given_list)):\n",
        "    if(sorted(given_list[x][-1])==sorted(serial)):\n",
        "      return 1\n",
        "\n",
        "def node(tablelist,assembled,parts,now,start_to):#tablelist:조립 테이블 assembled:조립된 조각 테이블 \n",
        "  templist=[]#현재 노드를 \n",
        "  \n",
        "  for y in range(0,len(assembled)):\n",
        "    for x in range(0,len(tablelist)):\n",
        "      v1=write(assembled,y,parts)#조립 되어있는 parts를 만든다\n",
        "      v2=write(tablelist,x,parts)#조립 테이블을 불러온다\n",
        "\n",
        "      if v1[x]>0:\n",
        "        serial1=assembled[y][-1]#조립된 조각의 시리얼 저장\n",
        "        serial2=tablelist[x][-1]#조립할 시리얼 저장\n",
        "\n",
        "        result=list(np.array(v1)+np.array(v2))\n",
        "\n",
        "        if(now!=0):#노드가 0 이 아닐경우에는 출발 시리얼과 도착 시리얼을 저장한다\n",
        "          start_to.append([serial1,serial1+serial2])\n",
        "\n",
        "        else:#만약에 노드 0일 경우엔 예외적으로 출발칸을 초기상태로 지정한다\n",
        "          start_to.append([write_serial(parts),serial1+serial2])\n",
        "          \n",
        "        result.append(serial1)#출발 시리얼 저장\n",
        "        result.append(serial1+serial2)#도착 시리얼 저장\n",
        "        checking=serial_checking(templist,serial1+serial2)#이미 조립해본적 있는지 확인\n",
        "        \n",
        "        if(checking==1):#조립한적 있다면 업데이트를 하지 않는다\n",
        "          pass\n",
        "\n",
        "        else:\n",
        "          to_zeros(result,serial1+serial2)\n",
        "          templist.append(result)#조립한적 통해 나온값들 업데이트\n",
        "  return templist\n",
        "\n",
        "def make_arc(start_to,nametags):\n",
        "  for x in range(len(start_to)):\n",
        "    for y in range(len(nametags)):\n",
        "      if sorted(start_to[x][0])==sorted(nametags[y]):#출발 리스트의 정렬값이 nametags의 어디에 위치해 있는지 확인\n",
        "        start_to[x].append(y)#출발값 좌표저장\n",
        "\n",
        "      if sorted(start_to[x][1])==sorted(nametags[y]):#도착 리스트의 정렬값이 nametags의 어디에 위치해 있는지 확인\n",
        "        start_to[x].append(y)#도착값 좌표저장\n",
        "\n",
        "def update_nametags(nametags,parts):\n",
        "  for x in range(len(nametags)):\n",
        "    serial=list(write_serial(parts))#/로 구분된 조각들을 list형태로 불러온다\n",
        "\n",
        "    while('/' in sorted(serial)):#nametags에 저장된 값들은 /가 존재하지 않기때문에 '/'를 제거해준다\n",
        "      serial.remove('/')\n",
        "\n",
        "    for y in range(len(nametags[x])):\n",
        "      if(sorted(nametags[x])[y] in sorted(serial)):\n",
        "        serial.remove(sorted(nametags[x])[y])#조립된 parts들은 제거해준다.\n",
        "\n",
        "    for z in range(len(serial)):\n",
        "      nametags[x]=nametags[x]+'/'+serial[z]#새로운 조립 리스트를 완성한다."
      ]
    },
    {
      "cell_type": "markdown",
      "metadata": {
        "id": "RmCBqZ67dBfS"
      },
      "source": [
        "## 입력부"
      ]
    },
    {
      "cell_type": "code",
      "execution_count": null,
      "metadata": {
        "colab": {
          "base_uri": "https://localhost:8080/"
        },
        "id": "R0GPEDvNEzFp",
        "outputId": "5da6257d-31d3-48a6-f588-a258ec9626d3"
      },
      "outputs": [
        {
          "output_type": "stream",
          "name": "stdout",
          "text": [
            "4\n",
            "parts: A\n",
            "0110\n",
            "----------------\n",
            "parts: B\n",
            "1010\n",
            "----------------\n",
            "parts: C\n",
            "1101\n",
            "----------------\n",
            "parts: D\n",
            "0010\n",
            "----------------\n",
            "[[0, 1, 1, 0, '', 'A'], [1, 0, 1, 0, '', 'B'], [1, 1, 0, 1, '', 'C'], [0, 0, 1, 0, '', 'D']]\n"
          ]
        }
      ],
      "source": [
        "import numpy as np\n",
        "import time\n",
        "parts=int(input())\n",
        "templist = []\n",
        "times=[]\n",
        "num=0\n",
        "time_table=[]\n",
        "for x in range(0,parts):\n",
        "  print('parts:',chr(65+x))\n",
        "  templist.append(input())\n",
        "  \n",
        "  print('----------------')\n",
        "\n",
        "dataset= [[0 for col in range(parts+2)] for row in range(parts)]\n",
        "\n",
        "for x in range(parts):\n",
        "  for y in range(parts+2):\n",
        "    if y<parts:\n",
        "      dataset[x][y]=int(templist[x][y]) #조합 테이블 만들기\n",
        "\n",
        "    elif(parts==y):\n",
        "      dataset[x][y]=''\n",
        "    else:\n",
        "      dataset[x][y]=chr(65+x) #시리얼 코드 입력 A,B,C,....\n",
        "print(dataset)"
      ]
    },
    {
      "cell_type": "markdown",
      "metadata": {
        "id": "GuKvqlsAdOw4"
      },
      "source": [
        "## Node연산"
      ]
    },
    {
      "cell_type": "code",
      "execution_count": null,
      "metadata": {
        "colab": {
          "base_uri": "https://localhost:8080/"
        },
        "id": "jDQp1ZNTQHUS",
        "outputId": "1de356a4-4831-4775-aa43-6541abc71e89"
      },
      "outputs": [
        {
          "output_type": "stream",
          "name": "stdout",
          "text": [
            "Node: 0\n",
            "[[0, 0, 2, 0, 'A', 'AB'], [0, 2, 0, 1, 'A', 'AC'], [2, 0, 0, 1, 'B', 'BC'], [1, 1, 0, 0, 'C', 'CD']]\n",
            "-------------------------------------------------------------\n",
            "Node: 1\n",
            "[[0, 0, 0, 1, 'AB', 'ABC'], [0, 2, 0, 0, 'AC', 'ACD'], [2, 0, 0, 0, 'BC', 'BCD']]\n",
            "-------------------------------------------------------------\n",
            "Node: 2\n",
            "[[0, 0, 0, 0, 'ABC', 'ABCD']]\n",
            "-------------------------------------------------------------\n",
            "Node: 3\n",
            "[]\n",
            "-------------------------------------------------------------\n"
          ]
        }
      ],
      "source": [
        "time_table=[]\n",
        "start_to=[]#조립되는 경우들을 기록한다\n",
        "nametags=[]#조립된 모양을 기록한다.\n",
        "now=0#Node번호\n",
        "\n",
        "start=time.time()\n",
        "print('Node:',now)\n",
        "temp=node(dataset,dataset,parts,now,start_to)#level0 만들기\n",
        "nametags.append(write_serial(parts))#초기상황인 A/B/C/....을 만든다\n",
        "\n",
        "for x in range(0,len(temp)):\n",
        "  nametags.append(temp[x][-1])#조립된 상황을 업데이트한다\n",
        "\n",
        "print(temp)\n",
        "print('-------------------------------------------------------------')\n",
        "\n",
        "for x in range(0,parts-1):\n",
        "  now=now+1\n",
        "  print('Node:',now)\n",
        "\n",
        "  temp=node(dataset,temp,parts,now,start_to)\n",
        "  print(temp)\n",
        "  print('-------------------------------------------------------------')\n",
        "\n",
        "  for y in range(0,len(temp)):\n",
        "    nametags.append(temp[y][-1])\n",
        "time_table.append(time.time()-start)"
      ]
    },
    {
      "cell_type": "code",
      "source": [
        "start_to"
      ],
      "metadata": {
        "colab": {
          "base_uri": "https://localhost:8080/"
        },
        "id": "4sKyTS5enR-P",
        "outputId": "8b47004b-da49-4d9c-c9d0-7681017ebda0"
      },
      "execution_count": null,
      "outputs": [
        {
          "output_type": "execute_result",
          "data": {
            "text/plain": [
              "[['A/B/C/D', 'AB'],\n",
              " ['A/B/C/D', 'AC'],\n",
              " ['A/B/C/D', 'BA'],\n",
              " ['A/B/C/D', 'BC'],\n",
              " ['A/B/C/D', 'CA'],\n",
              " ['A/B/C/D', 'CB'],\n",
              " ['A/B/C/D', 'CD'],\n",
              " ['A/B/C/D', 'DC'],\n",
              " ['AB', 'ABC'],\n",
              " ['AC', 'ACB'],\n",
              " ['AC', 'ACD'],\n",
              " ['BC', 'BCA'],\n",
              " ['BC', 'BCD'],\n",
              " ['CD', 'CDA'],\n",
              " ['CD', 'CDB'],\n",
              " ['ABC', 'ABCD'],\n",
              " ['ACD', 'ACDB'],\n",
              " ['BCD', 'BCDA']]"
            ]
          },
          "metadata": {},
          "execution_count": 8
        }
      ]
    },
    {
      "cell_type": "markdown",
      "metadata": {
        "id": "oqYF0gALdXJi"
      },
      "source": [
        "## Arc구현"
      ]
    },
    {
      "cell_type": "code",
      "execution_count": null,
      "metadata": {
        "id": "uiBJNxsWYA69"
      },
      "outputs": [],
      "source": [
        "make_arc(start_to,nametags)#arc를 생성한다\n",
        "time_table.append(time.time()-start-time_table[0])#arc를 생성하는데 걸리는 시간을 기록한다\n",
        "\n",
        "update_nametags(nametags,parts)#/로 구분되게 nametags를 업데이트한다.\n",
        "time_table.append(time.time()-start-time_table[1])#nametags를 업데이트 하는데 걸리는 시간을 기록한다.\n"
      ]
    },
    {
      "cell_type": "markdown",
      "metadata": {
        "id": "ciNt6_KRdZ2-"
      },
      "source": [
        "## Matrix구현"
      ]
    },
    {
      "cell_type": "code",
      "execution_count": null,
      "metadata": {
        "id": "lfMzldtCQwcN"
      },
      "outputs": [],
      "source": [
        "s=(len(nametags),len(nametags))\n",
        "matrix=np.zeros(s)\n",
        "\n",
        "for x in range(len(start_to)):\n",
        "  for y in range(len(matrix)):\n",
        "    matrix[start_to[x][-2]][start_to[x][-1]]=1#Matrix에 값을 저장\n",
        "\n",
        "time_table.append(time.time()-start-time_table[2])"
      ]
    },
    {
      "cell_type": "code",
      "execution_count": null,
      "metadata": {
        "colab": {
          "base_uri": "https://localhost:8080/",
          "height": 331
        },
        "id": "EfJ5FAzaYcdj",
        "outputId": "ca396977-01d1-49ee-caee-88362a1596ed"
      },
      "outputs": [
        {
          "output_type": "execute_result",
          "data": {
            "text/plain": [
              "         A/B/C/D  AB/C/D  AC/B/D  BC/A/D  CD/A/B  ABC/D  ACD/B  BCD/A  ABCD\n",
              "A/B/C/D      0.0     1.0     1.0     1.0     1.0    0.0    0.0    0.0   0.0\n",
              "AB/C/D       0.0     0.0     0.0     0.0     0.0    1.0    0.0    0.0   0.0\n",
              "AC/B/D       0.0     0.0     0.0     0.0     0.0    1.0    1.0    0.0   0.0\n",
              "BC/A/D       0.0     0.0     0.0     0.0     0.0    1.0    0.0    1.0   0.0\n",
              "CD/A/B       0.0     0.0     0.0     0.0     0.0    0.0    1.0    1.0   0.0\n",
              "ABC/D        0.0     0.0     0.0     0.0     0.0    0.0    0.0    0.0   1.0\n",
              "ACD/B        0.0     0.0     0.0     0.0     0.0    0.0    0.0    0.0   1.0\n",
              "BCD/A        0.0     0.0     0.0     0.0     0.0    0.0    0.0    0.0   1.0\n",
              "ABCD         0.0     0.0     0.0     0.0     0.0    0.0    0.0    0.0   0.0"
            ],
            "text/html": [
              "\n",
              "  <div id=\"df-415688f4-359a-4076-b325-8d14da420925\">\n",
              "    <div class=\"colab-df-container\">\n",
              "      <div>\n",
              "<style scoped>\n",
              "    .dataframe tbody tr th:only-of-type {\n",
              "        vertical-align: middle;\n",
              "    }\n",
              "\n",
              "    .dataframe tbody tr th {\n",
              "        vertical-align: top;\n",
              "    }\n",
              "\n",
              "    .dataframe thead th {\n",
              "        text-align: right;\n",
              "    }\n",
              "</style>\n",
              "<table border=\"1\" class=\"dataframe\">\n",
              "  <thead>\n",
              "    <tr style=\"text-align: right;\">\n",
              "      <th></th>\n",
              "      <th>A/B/C/D</th>\n",
              "      <th>AB/C/D</th>\n",
              "      <th>AC/B/D</th>\n",
              "      <th>BC/A/D</th>\n",
              "      <th>CD/A/B</th>\n",
              "      <th>ABC/D</th>\n",
              "      <th>ACD/B</th>\n",
              "      <th>BCD/A</th>\n",
              "      <th>ABCD</th>\n",
              "    </tr>\n",
              "  </thead>\n",
              "  <tbody>\n",
              "    <tr>\n",
              "      <th>A/B/C/D</th>\n",
              "      <td>0.0</td>\n",
              "      <td>1.0</td>\n",
              "      <td>1.0</td>\n",
              "      <td>1.0</td>\n",
              "      <td>1.0</td>\n",
              "      <td>0.0</td>\n",
              "      <td>0.0</td>\n",
              "      <td>0.0</td>\n",
              "      <td>0.0</td>\n",
              "    </tr>\n",
              "    <tr>\n",
              "      <th>AB/C/D</th>\n",
              "      <td>0.0</td>\n",
              "      <td>0.0</td>\n",
              "      <td>0.0</td>\n",
              "      <td>0.0</td>\n",
              "      <td>0.0</td>\n",
              "      <td>1.0</td>\n",
              "      <td>0.0</td>\n",
              "      <td>0.0</td>\n",
              "      <td>0.0</td>\n",
              "    </tr>\n",
              "    <tr>\n",
              "      <th>AC/B/D</th>\n",
              "      <td>0.0</td>\n",
              "      <td>0.0</td>\n",
              "      <td>0.0</td>\n",
              "      <td>0.0</td>\n",
              "      <td>0.0</td>\n",
              "      <td>1.0</td>\n",
              "      <td>1.0</td>\n",
              "      <td>0.0</td>\n",
              "      <td>0.0</td>\n",
              "    </tr>\n",
              "    <tr>\n",
              "      <th>BC/A/D</th>\n",
              "      <td>0.0</td>\n",
              "      <td>0.0</td>\n",
              "      <td>0.0</td>\n",
              "      <td>0.0</td>\n",
              "      <td>0.0</td>\n",
              "      <td>1.0</td>\n",
              "      <td>0.0</td>\n",
              "      <td>1.0</td>\n",
              "      <td>0.0</td>\n",
              "    </tr>\n",
              "    <tr>\n",
              "      <th>CD/A/B</th>\n",
              "      <td>0.0</td>\n",
              "      <td>0.0</td>\n",
              "      <td>0.0</td>\n",
              "      <td>0.0</td>\n",
              "      <td>0.0</td>\n",
              "      <td>0.0</td>\n",
              "      <td>1.0</td>\n",
              "      <td>1.0</td>\n",
              "      <td>0.0</td>\n",
              "    </tr>\n",
              "    <tr>\n",
              "      <th>ABC/D</th>\n",
              "      <td>0.0</td>\n",
              "      <td>0.0</td>\n",
              "      <td>0.0</td>\n",
              "      <td>0.0</td>\n",
              "      <td>0.0</td>\n",
              "      <td>0.0</td>\n",
              "      <td>0.0</td>\n",
              "      <td>0.0</td>\n",
              "      <td>1.0</td>\n",
              "    </tr>\n",
              "    <tr>\n",
              "      <th>ACD/B</th>\n",
              "      <td>0.0</td>\n",
              "      <td>0.0</td>\n",
              "      <td>0.0</td>\n",
              "      <td>0.0</td>\n",
              "      <td>0.0</td>\n",
              "      <td>0.0</td>\n",
              "      <td>0.0</td>\n",
              "      <td>0.0</td>\n",
              "      <td>1.0</td>\n",
              "    </tr>\n",
              "    <tr>\n",
              "      <th>BCD/A</th>\n",
              "      <td>0.0</td>\n",
              "      <td>0.0</td>\n",
              "      <td>0.0</td>\n",
              "      <td>0.0</td>\n",
              "      <td>0.0</td>\n",
              "      <td>0.0</td>\n",
              "      <td>0.0</td>\n",
              "      <td>0.0</td>\n",
              "      <td>1.0</td>\n",
              "    </tr>\n",
              "    <tr>\n",
              "      <th>ABCD</th>\n",
              "      <td>0.0</td>\n",
              "      <td>0.0</td>\n",
              "      <td>0.0</td>\n",
              "      <td>0.0</td>\n",
              "      <td>0.0</td>\n",
              "      <td>0.0</td>\n",
              "      <td>0.0</td>\n",
              "      <td>0.0</td>\n",
              "      <td>0.0</td>\n",
              "    </tr>\n",
              "  </tbody>\n",
              "</table>\n",
              "</div>\n",
              "      <button class=\"colab-df-convert\" onclick=\"convertToInteractive('df-415688f4-359a-4076-b325-8d14da420925')\"\n",
              "              title=\"Convert this dataframe to an interactive table.\"\n",
              "              style=\"display:none;\">\n",
              "        \n",
              "  <svg xmlns=\"http://www.w3.org/2000/svg\" height=\"24px\"viewBox=\"0 0 24 24\"\n",
              "       width=\"24px\">\n",
              "    <path d=\"M0 0h24v24H0V0z\" fill=\"none\"/>\n",
              "    <path d=\"M18.56 5.44l.94 2.06.94-2.06 2.06-.94-2.06-.94-.94-2.06-.94 2.06-2.06.94zm-11 1L8.5 8.5l.94-2.06 2.06-.94-2.06-.94L8.5 2.5l-.94 2.06-2.06.94zm10 10l.94 2.06.94-2.06 2.06-.94-2.06-.94-.94-2.06-.94 2.06-2.06.94z\"/><path d=\"M17.41 7.96l-1.37-1.37c-.4-.4-.92-.59-1.43-.59-.52 0-1.04.2-1.43.59L10.3 9.45l-7.72 7.72c-.78.78-.78 2.05 0 2.83L4 21.41c.39.39.9.59 1.41.59.51 0 1.02-.2 1.41-.59l7.78-7.78 2.81-2.81c.8-.78.8-2.07 0-2.86zM5.41 20L4 18.59l7.72-7.72 1.47 1.35L5.41 20z\"/>\n",
              "  </svg>\n",
              "      </button>\n",
              "      \n",
              "  <style>\n",
              "    .colab-df-container {\n",
              "      display:flex;\n",
              "      flex-wrap:wrap;\n",
              "      gap: 12px;\n",
              "    }\n",
              "\n",
              "    .colab-df-convert {\n",
              "      background-color: #E8F0FE;\n",
              "      border: none;\n",
              "      border-radius: 50%;\n",
              "      cursor: pointer;\n",
              "      display: none;\n",
              "      fill: #1967D2;\n",
              "      height: 32px;\n",
              "      padding: 0 0 0 0;\n",
              "      width: 32px;\n",
              "    }\n",
              "\n",
              "    .colab-df-convert:hover {\n",
              "      background-color: #E2EBFA;\n",
              "      box-shadow: 0px 1px 2px rgba(60, 64, 67, 0.3), 0px 1px 3px 1px rgba(60, 64, 67, 0.15);\n",
              "      fill: #174EA6;\n",
              "    }\n",
              "\n",
              "    [theme=dark] .colab-df-convert {\n",
              "      background-color: #3B4455;\n",
              "      fill: #D2E3FC;\n",
              "    }\n",
              "\n",
              "    [theme=dark] .colab-df-convert:hover {\n",
              "      background-color: #434B5C;\n",
              "      box-shadow: 0px 1px 3px 1px rgba(0, 0, 0, 0.15);\n",
              "      filter: drop-shadow(0px 1px 2px rgba(0, 0, 0, 0.3));\n",
              "      fill: #FFFFFF;\n",
              "    }\n",
              "  </style>\n",
              "\n",
              "      <script>\n",
              "        const buttonEl =\n",
              "          document.querySelector('#df-415688f4-359a-4076-b325-8d14da420925 button.colab-df-convert');\n",
              "        buttonEl.style.display =\n",
              "          google.colab.kernel.accessAllowed ? 'block' : 'none';\n",
              "\n",
              "        async function convertToInteractive(key) {\n",
              "          const element = document.querySelector('#df-415688f4-359a-4076-b325-8d14da420925');\n",
              "          const dataTable =\n",
              "            await google.colab.kernel.invokeFunction('convertToInteractive',\n",
              "                                                     [key], {});\n",
              "          if (!dataTable) return;\n",
              "\n",
              "          const docLinkHtml = 'Like what you see? Visit the ' +\n",
              "            '<a target=\"_blank\" href=https://colab.research.google.com/notebooks/data_table.ipynb>data table notebook</a>'\n",
              "            + ' to learn more about interactive tables.';\n",
              "          element.innerHTML = '';\n",
              "          dataTable['output_type'] = 'display_data';\n",
              "          await google.colab.output.renderOutput(dataTable, element);\n",
              "          const docLink = document.createElement('div');\n",
              "          docLink.innerHTML = docLinkHtml;\n",
              "          element.appendChild(docLink);\n",
              "        }\n",
              "      </script>\n",
              "    </div>\n",
              "  </div>\n",
              "  "
            ]
          },
          "metadata": {},
          "execution_count": 7
        }
      ],
      "source": [
        "import pandas as pd#판다스 라이브러리 import\n",
        "df=pd.DataFrame(matrix,index=nametags,columns=nametags)#보기좋게 데이터프레임으로 변형\n",
        "df"
      ]
    },
    {
      "cell_type": "code",
      "execution_count": null,
      "metadata": {
        "colab": {
          "base_uri": "https://localhost:8080/"
        },
        "id": "se_4CF4C7Eu2",
        "outputId": "20ec8ec3-790c-47ca-eb3f-fe7ada459eb8"
      },
      "outputs": [
        {
          "output_type": "stream",
          "name": "stdout",
          "text": [
            "node를 돌리는 시간:\t 0.013 s\n",
            "nametag와 비교를 하여 위치를 확인하는데 걸리는 시간:\t 2.0252 s\n",
            "/로 구분된 조립여부를 저장하는 시간:\t 0.0132 s\n",
            "Matrix를 만드는데 걸리는 시간:\t 3.9516 s\n",
            "DataFrame으로 전환하는데 걸리는 시간:\t 0.3724 s\n",
            "총 수행시간:\t 4.3262 s\n"
          ]
        }
      ],
      "source": [
        "time_table.append(time.time()-start-time_table[3])\n",
        "for x in range(len(time_table)):\n",
        "  if x==0:\n",
        "    print('node를 돌리는 시간:\\t',round(time_table[x],4),'s')\n",
        "  \n",
        "  elif x==1:\n",
        "    print('nametag와 비교를 하여 위치를 확인하는데 걸리는 시간:\\t',round(time_table[x],4),'s')\n",
        "\n",
        "  elif x==2:\n",
        "    print('/로 구분된 조립여부를 저장하는 시간:\\t',round(time_table[x],4),'s')\n",
        "  \n",
        "  elif x==3:\n",
        "    print('Matrix를 만드는데 걸리는 시간:\\t',round(time_table[x],4),'s')\n",
        "  \n",
        "  else:\n",
        "    print('DataFrame으로 전환하는데 걸리는 시간:\\t',round(time_table[x],4),'s')\n",
        "print('총 수행시간:\\t',round(time.time()-start,4),'s')"
      ]
    },
    {
      "cell_type": "code",
      "source": [
        "import matplotlib.pyplot as plt"
      ],
      "metadata": {
        "id": "ePAjOMtCb-8Q"
      },
      "execution_count": null,
      "outputs": []
    },
    {
      "cell_type": "code",
      "source": [
        "avg_list"
      ],
      "metadata": {
        "colab": {
          "base_uri": "https://localhost:8080/"
        },
        "id": "8HdMwFulg5lR",
        "outputId": "a5bd19bc-8e6f-4560-dc95-02c90ec3e9ce"
      },
      "execution_count": null,
      "outputs": [
        {
          "output_type": "execute_result",
          "data": {
            "text/plain": [
              "[0.0012449502944946289,\n",
              " 0.0010140180587768556,\n",
              " 0.0030460357666015625,\n",
              " 0.008552861213684083,\n",
              " 0.011699080467224121,\n",
              " 0.0162752628326416]"
            ]
          },
          "metadata": {},
          "execution_count": 10
        }
      ]
    },
    {
      "cell_type": "code",
      "source": [
        "plt.figure(figsize=(20,10))\n",
        "plt.plot(['3','4','5','6','7','8'],avg_list,c='red')\n",
        "plt.xlabel('parts')\n",
        "plt.ylabel('times')"
      ],
      "metadata": {
        "colab": {
          "base_uri": "https://localhost:8080/",
          "height": 624
        },
        "id": "u5namfQ2zrXi",
        "outputId": "56ff2dda-2712-4c06-cc3a-9bdfcda05fab"
      },
      "execution_count": null,
      "outputs": [
        {
          "output_type": "execute_result",
          "data": {
            "text/plain": [
              "Text(0, 0.5, 'times')"
            ]
          },
          "metadata": {},
          "execution_count": 11
        },
        {
          "output_type": "display_data",
          "data": {
            "text/plain": [
              "<Figure size 1440x720 with 1 Axes>"
            ],
            "image/png": "[encoded data removed]"
          },
          "metadata": {
            "needs_background": "light"
          }
        }
      ]
    },
    {
      "cell_type": "code",
      "source": [
        "start_to"
      ],
      "metadata": {
        "colab": {
          "base_uri": "https://localhost:8080/"
        },
        "id": "TbbfwRlXzzUV",
        "outputId": "6a35bb08-a223-4039-af8a-f378bc053812"
      },
      "execution_count": null,
      "outputs": [
        {
          "output_type": "execute_result",
          "data": {
            "text/plain": [
              "[['A/B/C/D', 'AB', 0, 1],\n",
              " ['A/B/C/D', 'AC', 0, 2],\n",
              " ['A/B/C/D', 'BA', 0, 1],\n",
              " ['A/B/C/D', 'BC', 0, 3],\n",
              " ['A/B/C/D', 'CA', 0, 2],\n",
              " ['A/B/C/D', 'CB', 0, 3],\n",
              " ['A/B/C/D', 'CD', 0, 4],\n",
              " ['A/B/C/D', 'DC', 0, 4],\n",
              " ['AB', 'ABC', 1, 5],\n",
              " ['AC', 'ACB', 2, 5],\n",
              " ['AC', 'ACD', 2, 6],\n",
              " ['BC', 'BCA', 3, 5],\n",
              " ['BC', 'BCD', 3, 7],\n",
              " ['CD', 'CDA', 4, 6],\n",
              " ['CD', 'CDB', 4, 7],\n",
              " ['ABC', 'ABCD', 5, 8],\n",
              " ['ACD', 'ACDB', 6, 8],\n",
              " ['BCD', 'BCDA', 7, 8]]"
            ]
          },
          "metadata": {},
          "execution_count": 12
        }
      ]
    }
  ],
  "metadata": {
    "colab": {
      "collapsed_sections": [
        "oqYF0gALdXJi"
      ],
      "provenance": []
    },
    "kernelspec": {
      "display_name": "Python 3",
      "name": "python3"
    },
    "language_info": {
      "name": "python"
    }
  },
  "nbformat": 4,
  "nbformat_minor": 0
}